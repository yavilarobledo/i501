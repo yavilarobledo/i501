{
 "cells": [
  {
   "cell_type": "code",
   "execution_count": null,
   "id": "7f692544-5c7e-4e62-b1c8-96785c3b4356",
   "metadata": {},
   "outputs": [],
   "source": [
    "!conda env lis"
   ]
  }
 ],
 "metadata": {
  "kernelspec": {
   "display_name": "i501",
   "language": "python",
   "name": "i501"
  },
  "language_info": {
   "codemirror_mode": {
    "name": "ipython",
    "version": 3
   },
   "file_extension": ".py",
   "mimetype": "text/x-python",
   "name": "python",
   "nbconvert_exporter": "python",
   "pygments_lexer": "ipython3",
   "version": "3.10.13"
  }
 },
 "nbformat": 4,
 "nbformat_minor": 5
}
